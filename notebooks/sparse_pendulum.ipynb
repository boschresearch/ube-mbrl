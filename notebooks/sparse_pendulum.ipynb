{
 "cells": [
  {
   "cell_type": "markdown",
   "metadata": {},
   "source": [
    "### Load Pickle files from all environments"
   ]
  },
  {
   "cell_type": "code",
   "execution_count": null,
   "metadata": {},
   "outputs": [],
   "source": [
    "import pickle\n",
    "from pathlib import Path\n",
    "\n",
    "root_module = Path.cwd()\n",
    "ext = \".pkl\"\n",
    "name = \"sparse_pendulum\"\n",
    "load_dir = root_module.parent.joinpath(\"data/\")\n",
    "file_dir = load_dir.joinpath(name + ext)\n",
    "data = pickle.load(open(file_dir, \"rb\"))"
   ]
  },
  {
   "cell_type": "markdown",
   "metadata": {},
   "source": [
    "### Smoothen Returns and Compute Mean + Confidence Intervals"
   ]
  },
  {
   "cell_type": "code",
   "execution_count": null,
   "metadata": {},
   "outputs": [],
   "source": [
    "import numpy as np\n",
    "from itertools import product\n",
    "from scipy.stats import sem\n",
    "\n",
    "WINDOW_SIZE = 5\n",
    "\n",
    "def rolling_average(w: int, arr: np.ndarray) -> np.ndarray:\n",
    "    \"\"\"\n",
    "    Expects an array of size (num_points, num_seeds) where we want to smoothen out each individual\n",
    "    curve by a moving average\n",
    "    \"\"\"\n",
    "    if arr.size == 0:\n",
    "        return arr\n",
    "    one_array = np.ones(w) / w\n",
    "    padded_arr = np.pad(arr, [(w-1, 0), (0,0)], mode='edge')\n",
    "    return np.apply_along_axis(lambda m: np.convolve(m, one_array, mode='valid'), axis=0, arr=padded_arr)\n",
    "\n",
    "# Get available methods and noise levels to plot\n",
    "keys_arr = np.array(list((data[\"returns\"].keys())), dtype=object)\n",
    "agent_types = np.array(list(set(keys_arr[:, 0])), dtype=tuple)\n",
    "agent_types = agent_types[agent_types.argsort()]\n",
    "# rearrange to desire order \n",
    "order = [1, 3, 0, 2, 4]\n",
    "agent_types = agent_types[order].tolist()\n",
    "noise_std = np.sort(list(set(keys_arr[:, 1])))\n",
    "\n",
    "data[\"mean_returns\"] = {}\n",
    "data[\"ci_returns\"] = {}\n",
    "for type, noise in product(agent_types, noise_std):\n",
    "    idx = (type, noise)\n",
    "    returns = data[\"returns\"][idx]\n",
    "    smoothened_returns = rolling_average(WINDOW_SIZE, returns)\n",
    "    data[\"mean_returns\"][idx] = np.mean(smoothened_returns, axis=-1)\n",
    "    data[\"ci_returns\"][idx] = sem(smoothened_returns, axis=-1)"
   ]
  },
  {
   "cell_type": "markdown",
   "metadata": {},
   "source": [
    "### Plot results"
   ]
  },
  {
   "cell_type": "code",
   "execution_count": null,
   "metadata": {},
   "outputs": [],
   "source": [
    "%matplotlib widget\n",
    "import matplotlib.pyplot as plt\n",
    "from ube_mbrl.utils.plot import PARAMS\n",
    "\n",
    "plt.rcParams.update(PARAMS)\n",
    "plt.rcParams['axes.formatter.useoffset'] = False\n",
    "\n",
    "num_cols = len(noise_std)\n",
    "fig, axes = plt.subplots(nrows=1, ncols=num_cols, figsize=(7.5, 1.5),gridspec_kw={'wspace':0.05,'hspace':0.1})\n",
    "\n",
    "ax_dict = {}\n",
    "for idx, ax in zip(noise_std, axes.flatten()):\n",
    "    ax_dict[idx] = ax \n",
    "\n",
    "colors = {}\n",
    "cmap = plt.get_cmap(\"tab10\")\n",
    "for i, type in enumerate(agent_types):\n",
    "    colors[type] = cmap(i)\n",
    "\n",
    "ep_length = 400\n",
    "\n",
    "for type, noise in product(agent_types[::-1], noise_std):\n",
    "    idx = (type, noise)\n",
    "    if type == \"exact_ube_3\":\n",
    "        label = r\"\\texttt{exact-ube}\" + \" (ours)\"\n",
    "    elif type == \"ensemble\":\n",
    "        label = r\"\\texttt{ensemble-var}\"\n",
    "    elif type == \"none\":\n",
    "        label = r\"\\texttt{ensemble-mean}\"\n",
    "    else: label = fr\"\\texttt{{{type}}}\"\n",
    "    ax_dict[noise].plot(\n",
    "        data[\"steps\"][idx] // ep_length,\n",
    "        data[\"mean_returns\"][idx], \n",
    "        linestyle=\"-\", \n",
    "        linewidth=2, \n",
    "        label=label, \n",
    "        c=colors[type])\n",
    "    ax_dict[noise].fill_between(\n",
    "        data[\"steps\"][idx] // ep_length,\n",
    "        data[\"mean_returns\"][idx] - data[\"ci_returns\"][idx], \n",
    "        data[\"mean_returns\"][idx] + data[\"ci_returns\"][idx], \n",
    "        alpha=0.2, color=colors[type]\n",
    "    )\n",
    "\n",
    "handles, labels = axes[0].get_legend_handles_labels()\n",
    "axes[0].legend(\n",
    "    handles[::-1],\n",
    "    labels[::-1], \n",
    "    loc = 'lower center', ncol=5, columnspacing=0.8, bbox_to_anchor=(1.5, -0.6), frameon=False\n",
    ")\n",
    "\n",
    "axes[0].set_ylabel(\"Return\")\n",
    "\n",
    "# Remove y-axis ticklabels of all but the first column\n",
    "for ax in axes[1:].flatten():\n",
    "    ax.yaxis.set_ticklabels([])\n",
    "\n",
    "# Set x axis label\n",
    "for ax in axes:\n",
    "    ax.set_xticks([0, 25, 50, 75])\n",
    "    ax.set_xlabel(\"Episode\")\n",
    "\n",
    "for noise, ax in ax_dict.items():\n",
    "    ax.set_title(f\"Angle noise std {noise}\")\n",
    "    ax.set_ylim(bottom=-80, top=240)"
   ]
  },
  {
   "cell_type": "code",
   "execution_count": null,
   "metadata": {},
   "outputs": [],
   "source": [
    "# Save figures\n",
    "import os\n",
    "import pickle\n",
    "from pathlib import Path\n",
    "root_module = Path.cwd()\n",
    "fig_dir = root_module.parent.joinpath(f\"figures/sparse_pendulum_returns.pdf\")\n",
    "fig.savefig(fig_dir, bbox_inches=\"tight\", transparent=False)"
   ]
  },
  {
   "cell_type": "markdown",
   "metadata": {},
   "source": [
    "# License\n",
    "\n",
    ">Copyright (c) 2023 Robert Bosch GmbH\n",
    ">\n",
    ">This program is free software: you can redistribute it and/or modify <br>\n",
    ">it under the terms of the GNU Affero General Public License as published<br>\n",
    ">by the Free Software Foundation, either version 3 of the License, or<br>\n",
    ">(at your option) any later version.<br>\n",
    ">\n",
    ">This program is distributed in the hope that it will be useful,<br>\n",
    ">but WITHOUT ANY WARRANTY; without even the implied warranty of<br>\n",
    ">MERCHANTABILITY or FITNESS FOR A PARTICULAR PURPOSE.  See the<br>\n",
    ">GNU Affero General Public License for more details.<br>\n",
    ">\n",
    ">You should have received a copy of the GNU Affero General Public License<br>\n",
    ">along with this program.  If not, see <https://www.gnu.org/licenses/>."
   ]
  }
 ],
 "metadata": {
  "interpreter": {
   "hash": "eafbab267a141d6ae36124cd41d75a3d6551e2f58d4e70cbe0f075109478ae80"
  },
  "kernelspec": {
   "display_name": "Python 3.8.13 ('ube_mbrl')",
   "language": "python",
   "name": "python3"
  },
  "language_info": {
   "codemirror_mode": {
    "name": "ipython",
    "version": 3
   },
   "file_extension": ".py",
   "mimetype": "text/x-python",
   "name": "python",
   "nbconvert_exporter": "python",
   "pygments_lexer": "ipython3",
   "version": "3.8.16"
  },
  "orig_nbformat": 4
 },
 "nbformat": 4,
 "nbformat_minor": 2
}
