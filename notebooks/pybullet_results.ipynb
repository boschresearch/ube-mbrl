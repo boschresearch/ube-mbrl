{
    "cells": [
        {
            "cell_type": "markdown",
            "metadata": {},
            "source": [
                "### Load Pickle files from all environments"
            ]
        },
        {
            "cell_type": "code",
            "execution_count": null,
            "metadata": {},
            "outputs": [],
            "source": [
                "import pickle\n",
                "from pathlib import Path\n",
                "\n",
                "root_module = Path.cwd()\n",
                "ext = \".pkl\"\n",
                "env_names = [\"HalfCheetah\", \"Walker2D\", \"Ant\"]\n",
                "load_dir = root_module.parent.joinpath(\"data/\")\n",
                "\n",
                "env_data = {}\n",
                "for env_name in env_names:\n",
                "    file_dir = load_dir.joinpath(env_name + ext)\n",
                "    env_data[env_name] = pickle.load(open(file_dir, \"rb\"))"
            ]
        },
        {
            "cell_type": "markdown",
            "metadata": {},
            "source": [
                "### Smoothen Returns and Compute Mean + Confidence Intervals"
            ]
        },
        {
            "cell_type": "code",
            "execution_count": null,
            "metadata": {},
            "outputs": [],
            "source": [
                "import numpy as np\n",
                "from scipy.stats import sem\n",
                "\n",
                "WINDOW_SIZE = 10\n",
                "all_types = [\"exact_ube_3\", \"pombu\", \"ensemble\", \"none\", \"sac\"]\n",
                "\n",
                "def rolling_average(w: int, arr: np.ndarray) -> np.ndarray:\n",
                "    \"\"\"\n",
                "    Expects an array of size (num_points, num_seeds) where we want to smoothen out each individual\n",
                "    curve by a moving average\n",
                "    \"\"\"\n",
                "    if arr.size == 0:\n",
                "        return arr\n",
                "    one_array = np.ones(w) / w\n",
                "    centered_window = ((w-1) // 2, int(np.ceil((w-1) / 2)))\n",
                "    padded_arr = np.pad(arr, [centered_window, (0,0)], mode='edge')\n",
                "    return np.apply_along_axis(lambda m: np.convolve(m, one_array, mode='valid'), axis=0, arr=padded_arr)\n",
                "\n",
                "for env_name in env_names:\n",
                "    env_data[env_name][\"mean_returns\"] = {}\n",
                "    env_data[env_name][\"ci_returns\"] = {}\n",
                "    for type in all_types:\n",
                "        returns = env_data[env_name][\"returns\"][type]\n",
                "        smoothened_returns = rolling_average(WINDOW_SIZE, returns)\n",
                "        env_data[env_name][\"mean_returns\"][type] = np.mean(smoothened_returns, axis=-1)\n",
                "        env_data[env_name][\"ci_returns\"][type] = sem(smoothened_returns, axis=-1)"
            ]
        },
        {
            "cell_type": "markdown",
            "metadata": {},
            "source": [
                "### Plot results"
            ]
        },
        {
            "cell_type": "code",
            "execution_count": null,
            "metadata": {},
            "outputs": [],
            "source": [
                "%matplotlib widget\n",
                "import matplotlib.pyplot as plt\n",
                "from ube_mbrl.utils.plot import PARAMS\n",
                "\n",
                "plt.rcParams.update(PARAMS)\n",
                "plt.rcParams['axes.formatter.useoffset'] = False\n",
                "\n",
                "fig, axes = plt.subplots(nrows=1, ncols=len(env_names), figsize=(7.5, 1.5),gridspec_kw={'wspace':0.15,'hspace':0.2})\n",
                "\n",
                "ax_dict = {}\n",
                "for env_name, ax in zip(env_names, axes.flatten()):\n",
                "    ax_dict[env_name] = ax\n",
                "\n",
                "\n",
                "colors = {}\n",
                "cmap = plt.get_cmap(\"tab10\")\n",
                "for i, type in enumerate(all_types):\n",
                "    colors[type] = cmap(i)\n",
                "\n",
                "ep_length = 1000 \n",
                "\n",
                "for env_name in env_names:\n",
                "    ax_dict[env_name].set_title(env_name)\n",
                "    for type in all_types[::-1]:\n",
                "        if type == \"exact_ube_3\":\n",
                "            label = r\"\\texttt{exact-ube}\" + \" (ours)\"\n",
                "        elif type == \"ensemble\":\n",
                "            label = r\"\\texttt{ensemble-var}\"\n",
                "        elif type == \"none\":\n",
                "            label = r\"\\texttt{ensemble-mean}\"\n",
                "        else: label = fr\"\\texttt{{{type}}}\"\n",
                "\n",
                "        steps = env_data[env_name][\"steps\"][type]\n",
                "        mean_returns = env_data[env_name][\"mean_returns\"][type]\n",
                "        ci_returns = env_data[env_name][\"ci_returns\"][type]\n",
                "\n",
                "        ax_dict[env_name].plot(\n",
                "            steps // ep_length,\n",
                "            mean_returns,\n",
                "            linestyle=\"-\", \n",
                "            linewidth=2, \n",
                "            label=label, \n",
                "            c=colors[type]\n",
                "        )\n",
                "\n",
                "        ax_dict[env_name].fill_between(\n",
                "            steps // ep_length,\n",
                "            mean_returns + ci_returns,\n",
                "            mean_returns - ci_returns,\n",
                "            alpha=0.2,\n",
                "            color=colors[type]\n",
                "        )\n",
                "\n",
                "axes[0].set_ylabel(r\"Return ($\\times 10^3$)\")\n",
                "axes[1].set_yticks([0e3, 1e3])\n",
                "handles, labels = axes[0].get_legend_handles_labels()\n",
                "axes[0].legend(handles[::-1], labels[::-1], loc = 'lower center', columnspacing=0.8, ncol=5, bbox_to_anchor=(1.65, -0.6), frameon=False)\n",
                "for ax in axes:\n",
                "    ax.set_xlabel(\"Episode\")\n",
                "    ax.ticklabel_format(axis='y', style='sci', scilimits=(0,0))"
            ]
        },
        {
            "cell_type": "code",
            "execution_count": null,
            "metadata": {},
            "outputs": [],
            "source": [
                "# Save figures\n",
                "fig_dir = root_module.parent.joinpath(f\"figures/pybullet_benchmark.pdf\")\n",
                "fig.savefig(fig_dir, bbox_inches=\"tight\", transparent=False)"
            ]
        },
        {
            "cell_type": "markdown",
            "metadata": {},
            "source": [
                "# License\n",
                "\n",
                ">Copyright (c) 2023 Robert Bosch GmbH\n",
                ">\n",
                ">This program is free software: you can redistribute it and/or modify <br>\n",
                ">it under the terms of the GNU Affero General Public License as published<br>\n",
                ">by the Free Software Foundation, either version 3 of the License, or<br>\n",
                ">(at your option) any later version.<br>\n",
                ">\n",
                ">This program is distributed in the hope that it will be useful,<br>\n",
                ">but WITHOUT ANY WARRANTY; without even the implied warranty of<br>\n",
                ">MERCHANTABILITY or FITNESS FOR A PARTICULAR PURPOSE.  See the<br>\n",
                ">GNU Affero General Public License for more details.<br>\n",
                ">\n",
                ">You should have received a copy of the GNU Affero General Public License<br>\n",
                ">along with this program.  If not, see <https://www.gnu.org/licenses/>."
            ]
        }
    ],
    "metadata": {
        "interpreter": {
            "hash": "eafbab267a141d6ae36124cd41d75a3d6551e2f58d4e70cbe0f075109478ae80"
        },
        "kernelspec": {
            "display_name": "Python 3.8.13 ('ube_mbrl')",
            "language": "python",
            "name": "python3"
        },
        "language_info": {
            "codemirror_mode": {
                "name": "ipython",
                "version": 3
            },
            "file_extension": ".py",
            "mimetype": "text/x-python",
            "name": "python",
            "nbconvert_exporter": "python",
            "pygments_lexer": "ipython3",
            "version": "3.8.16"
        },
        "orig_nbformat": 4
    },
    "nbformat": 4,
    "nbformat_minor": 2
}
