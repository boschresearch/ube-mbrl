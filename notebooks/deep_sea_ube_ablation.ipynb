{
 "cells": [
  {
   "cell_type": "markdown",
   "metadata": {},
   "source": [
    "### Load Pickle file"
   ]
  },
  {
   "cell_type": "code",
   "execution_count": null,
   "metadata": {},
   "outputs": [],
   "source": [
    "import pickle\n",
    "from pathlib import Path\n",
    "\n",
    "root_module = Path.cwd()\n",
    "ext = \".pkl\"\n",
    "name = \"deep_sea_ube_ablation\"\n",
    "load_dir = root_module.parent.joinpath(\"data/\")\n",
    "file_dir = load_dir.joinpath(name + ext)\n",
    "data = pickle.load(open(file_dir, \"rb\"))"
   ]
  },
  {
   "cell_type": "markdown",
   "metadata": {},
   "source": [
    "### Get metrics from raw data"
   ]
  },
  {
   "cell_type": "code",
   "execution_count": null,
   "metadata": {},
   "outputs": [],
   "source": [
    "import numpy as np\n",
    "from scipy.stats import sem\n",
    "\n",
    "data[\"mean_regret\"] = {}\n",
    "data[\"ci_regret\"] = {}\n",
    "data[\"mean_solve_time\"] = {}\n",
    "for key in data[\"total_regret\"].keys():\n",
    "    # Get mean and standard error of total regret\n",
    "    data[\"mean_regret\"][key] = np.mean(data[\"total_regret\"][key], axis=-1)\n",
    "    data[\"ci_regret\"][key] = sem(data[\"total_regret\"][key], axis=-1)\n",
    "    # Get mean solve times - note: NaN means the run did not solve the task\n",
    "    data[\"mean_solve_time\"][key] = np.nanmean(data[\"solve_time\"][key])"
   ]
  },
  {
   "cell_type": "markdown",
   "metadata": {},
   "source": [
    "### Learning Time and Final Total Regret Plots"
   ]
  },
  {
   "cell_type": "code",
   "execution_count": null,
   "metadata": {},
   "outputs": [],
   "source": [
    "%matplotlib widget\n",
    "import matplotlib.patches as mpatches\n",
    "import matplotlib.pyplot as plt\n",
    "from collections import defaultdict\n",
    "from itertools import product\n",
    "from ube_mbrl.utils.plot import PARAMS\n",
    "\n",
    "plt.rcParams.update(PARAMS)\n",
    "\n",
    "# Get unique agent types and deep sea sizes in the data\n",
    "keys_arr = np.array(list((data[\"total_regret\"].keys())), dtype=object)\n",
    "\n",
    "# convert agent types to array so we can sort it and order it how we like\n",
    "agent_types = np.array(list(set(keys_arr[:, 0])), dtype=tuple)\n",
    "agent_types = agent_types[agent_types[:,1].argsort()]\n",
    "# rearrange to desire order \n",
    "order = [2, 1, 0]\n",
    "agent_types = agent_types[order].tolist()\n",
    "# convert back to tuple so we use it as index\n",
    "agent_types = [tuple(agent_type) for agent_type in agent_types]\n",
    "\n",
    "deep_sea_sizes = np.sort(list(set(keys_arr[:, 1])))\n",
    "\n",
    "fig_ds, axes = plt.subplots(nrows=1, ncols=2, figsize=(7.5, 1.5),gridspec_kw={'wspace':0.25,'hspace':0.5})\n",
    "wd = 2\n",
    "sizes_to_plot = [10, 20, 30, 40]\n",
    "pos = [-3 * wd/2, -wd/2, wd/2, 3*wd/2]\n",
    "ticks = set()\n",
    "patches = []\n",
    "\n",
    "colors = {}\n",
    "cmap = plt.get_cmap(\"tab10\")\n",
    "for i, agent_type in enumerate(agent_types):\n",
    "    colors[agent_type] = cmap(i)\n",
    "\n",
    "# Get solve time for sizes to plot\n",
    "solve_time = defaultdict(list)\n",
    "for agent, size in product(agent_types, deep_sea_sizes):\n",
    "    agent = tuple(agent)\n",
    "    idx = (agent, size)\n",
    "    solve_time[agent].append((int(size), float(data[\"mean_solve_time\"][idx])))\n",
    "\n",
    "for i, agent in enumerate(agent_types):\n",
    "    agent = tuple(agent)\n",
    "    agent_name, uq_method = agent\n",
    "    if agent_name == \"psrl\":\n",
    "        label = fr\"\\texttt{{{agent_name}}}\"\n",
    "    else:\n",
    "        if uq_method == \"exact_ube_3\":\n",
    "            label = r\"\\texttt{ofu-exact-ube}\" + \" (ours)\"\n",
    "        elif uq_method == \"ensemble\":\n",
    "            label = r\"\\texttt{ofu-ensemble-var}\"\n",
    "        else:\n",
    "            label = fr\"\\texttt{{{agent_name}-{uq_method}}}\"\n",
    "    values = np.array(solve_time[agent], dtype=object)\n",
    "    axes[0].plot(values[:, 0], values[:, 1], marker='o', linewidth=2, label=label, c=colors[agent])\n",
    "\n",
    "    patches.append(mpatches.Patch(color=colors[agent], label=label))\n",
    "    for size in sizes_to_plot:\n",
    "        ticks.add(size)\n",
    "        idx = (agent, str(size))\n",
    "        axes[1].bar(\n",
    "            size + pos[i],\n",
    "            data[\"mean_regret\"][idx][-1], \n",
    "            yerr=data[\"ci_regret\"][idx][-1], \n",
    "            width=wd, \n",
    "            color=colors[agent]\n",
    "        )\n",
    "\n",
    "handles, labels = axes[0].get_legend_handles_labels()\n",
    "axes[0].legend(handles, labels,\n",
    "    loc='lower center', ncol=len(axes[0].lines), bbox_to_anchor=(1.1, -0.7), frameon=False\n",
    ")\n",
    "axes[0].set_ylabel(\"Episodes until \\n $< 90\\%$ failure (log)\")\n",
    "axes[0].set_xlabel(\"DeepSea size\")\n",
    "axes[0].set_xticks([10, 20, 30, 40])\n",
    "axes[0].set_yscale('log')\n",
    "axes[0].set_ylim(top=1000)\n",
    "axes[0].minorticks_off()\n",
    "axes[1].set_ylabel(\"Total regret\")\n",
    "axes[1].set_xlabel(\"DeepSea size\")\n",
    "axes[1].ticklabel_format(axis='y', style='sci', scilimits=(0,0))\n"
   ]
  },
  {
   "cell_type": "markdown",
   "metadata": {},
   "source": [
    "### Save figures"
   ]
  },
  {
   "cell_type": "code",
   "execution_count": null,
   "metadata": {},
   "outputs": [],
   "source": [
    "# Save figures\n",
    "import os\n",
    "from pathlib import Path\n",
    "root_module = Path.cwd()\n",
    "fig_ds_dir = root_module.parent.joinpath(f\"figures/deep_sea_ube_ablation_solve_time_and_total_regret.pdf\")\n",
    "fig_ds.savefig(fig_ds_dir, bbox_inches=\"tight\", transparent=False)"
   ]
  },
  {
   "cell_type": "markdown",
   "metadata": {},
   "source": [
    "# License\n",
    "\n",
    ">Copyright (c) 2023 Robert Bosch GmbH\n",
    ">\n",
    ">This program is free software: you can redistribute it and/or modify <br>\n",
    ">it under the terms of the GNU Affero General Public License as published<br>\n",
    ">by the Free Software Foundation, either version 3 of the License, or<br>\n",
    ">(at your option) any later version.<br>\n",
    ">\n",
    ">This program is distributed in the hope that it will be useful,<br>\n",
    ">but WITHOUT ANY WARRANTY; without even the implied warranty of<br>\n",
    ">MERCHANTABILITY or FITNESS FOR A PARTICULAR PURPOSE.  See the<br>\n",
    ">GNU Affero General Public License for more details.<br>\n",
    ">\n",
    ">You should have received a copy of the GNU Affero General Public License<br>\n",
    ">along with this program.  If not, see <https://www.gnu.org/licenses/>."
   ]
  }
 ],
 "metadata": {
  "interpreter": {
   "hash": "eafbab267a141d6ae36124cd41d75a3d6551e2f58d4e70cbe0f075109478ae80"
  },
  "kernelspec": {
   "display_name": "Python 3.8.13 ('ube_mbrl')",
   "language": "python",
   "name": "python3"
  },
  "language_info": {
   "codemirror_mode": {
    "name": "ipython",
    "version": 3
   },
   "file_extension": ".py",
   "mimetype": "text/x-python",
   "name": "python",
   "nbconvert_exporter": "python",
   "pygments_lexer": "ipython3",
   "version": "3.8.16"
  },
  "orig_nbformat": 4
 },
 "nbformat": 4,
 "nbformat_minor": 2
}
