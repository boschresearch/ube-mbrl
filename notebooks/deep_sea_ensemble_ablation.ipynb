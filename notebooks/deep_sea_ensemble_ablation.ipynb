{
 "cells": [
  {
   "cell_type": "markdown",
   "metadata": {},
   "source": [
    "### Load Pickle file"
   ]
  },
  {
   "cell_type": "code",
   "execution_count": null,
   "metadata": {},
   "outputs": [],
   "source": [
    "import pickle\n",
    "from pathlib import Path\n",
    "\n",
    "root_module = Path.cwd()\n",
    "ext = \".pkl\"\n",
    "name = \"deep_sea_ensemble\"\n",
    "load_dir = root_module.parent.joinpath(\"data/\")\n",
    "file_dir = load_dir.joinpath(name + ext)\n",
    "data = pickle.load(open(file_dir, \"rb\"))"
   ]
  },
  {
   "cell_type": "markdown",
   "metadata": {},
   "source": [
    "### Get metrics from raw data"
   ]
  },
  {
   "cell_type": "code",
   "execution_count": null,
   "metadata": {},
   "outputs": [],
   "source": [
    "import numpy as np\n",
    "from scipy.stats import sem\n",
    "\n",
    "data[\"mean_regret\"] = {}\n",
    "data[\"ci_regret\"] = {}\n",
    "data[\"mean_solve_time\"] = {}\n",
    "for key in data[\"total_regret\"].keys():\n",
    "    # Get mean and standard error of total regret\n",
    "    data[\"mean_regret\"][key] = np.mean(data[\"total_regret\"][key], axis=-1)\n",
    "    data[\"ci_regret\"][key] = sem(data[\"total_regret\"][key], axis=-1)"
   ]
  },
  {
   "cell_type": "markdown",
   "metadata": {},
   "source": [
    "### Plots"
   ]
  },
  {
   "cell_type": "code",
   "execution_count": null,
   "metadata": {},
   "outputs": [],
   "source": [
    "%matplotlib widget\n",
    "import matplotlib.patches as mpatches\n",
    "import matplotlib.pyplot as plt\n",
    "from collections import defaultdict\n",
    "from itertools import product\n",
    "from ube_mbrl.utils.plot import PARAMS\n",
    "\n",
    "plt.rcParams.update(PARAMS)\n",
    "\n",
    "# Get unique agent types and deep sea sizes in the data\n",
    "keys_arr = np.array(list((data[\"total_regret\"].keys())), dtype=object)\n",
    "\n",
    "# convert agent types to array so we can sort it and order it how we like\n",
    "agent_types = np.array(list(set(keys_arr[:, 0])), dtype=tuple)\n",
    "agent_types = agent_types[agent_types[:,1].argsort()]\n",
    "# rearrange to desire order \n",
    "order = [1, 2, 0]\n",
    "agent_types = agent_types[order].tolist()\n",
    "# convert back to tuple so we use it as index\n",
    "agent_types = [tuple(agent_type) for agent_type in agent_types]\n",
    "\n",
    "ensemble_sizes = np.sort(list(set(keys_arr[:, 1].astype(int))))\n",
    "deep_sea_sizes = np.sort(list(set(keys_arr[:, -1])))\n",
    "\n",
    "fig, axes = plt.subplots(nrows=1, ncols=2, figsize=(7.5, 2.0),gridspec_kw={'wspace':0.05,'hspace':0.5})\n",
    "\n",
    "ax_dict = {}\n",
    "for size, ax in zip(deep_sea_sizes, axes.flatten()):\n",
    "    ax_dict[size] = ax\n",
    "\n",
    "colors = {}\n",
    "cmap = plt.get_cmap(\"tab10\")\n",
    "for i, agent_type in enumerate(agent_types):\n",
    "    colors[agent_type] = cmap(i)\n",
    "\n",
    "wd = 0.2\n",
    "pos = [-wd, 0, wd]\n",
    "patches = []\n",
    "xticks = list(range(1, len(ensemble_sizes) + 1))\n",
    "xticks_labels = set()\n",
    "for size in deep_sea_sizes:\n",
    "    ax_dict[size].set_title(fr\"$L = {{{size}}}$\")\n",
    "    for i, agent in enumerate(agent_types):\n",
    "        for ensemble_size, xtick in zip(ensemble_sizes, xticks):\n",
    "            xticks_labels.add(str(ensemble_size))\n",
    "            idx = (agent, str(ensemble_size), size)\n",
    "            ax_dict[size].bar(\n",
    "                xtick + pos[i],\n",
    "                data[\"mean_regret\"][idx][-1], \n",
    "                yerr=data[\"ci_regret\"][idx][-1], \n",
    "                width=wd, \n",
    "                color=colors[agent]\n",
    "            )\n",
    "\n",
    "patches = []\n",
    "for agent in agent_types:\n",
    "    agent_name, uq_method = agent\n",
    "    if uq_method == \"exact_ube_3\":\n",
    "        label = r\"\\texttt{ofu-exact-ube}\" + \" (ours)\"\n",
    "    elif uq_method == \"ensemble\":\n",
    "        label = r\"\\texttt{ofu-ensemble-var}\"\n",
    "    else:\n",
    "        label = fr\"\\texttt{{{agent_name}-}}\\texttt{{{uq_method}}}\"\n",
    "    patches.append(mpatches.Patch(color=colors[agent], label=label))\n",
    "\n",
    "\n",
    "axes[0].legend(handles=patches, loc = 'lower center', ncol=4, bbox_to_anchor=(1.0, -0.5), frameon=False)\n",
    "\n",
    "axes[1].yaxis.set_ticklabels([])\n",
    "axes[0].set_ylabel(\"Total regret\")\n",
    "\n",
    "\n",
    "# Manual legend needed for bar plot with multiple bars per tick\n",
    "labels = np.sort(np.array(list(xticks_labels), dtype=int))\n",
    "for _, ax in ax_dict.items():\n",
    "    ax.set_xticks(ticks=xticks, labels=labels)\n",
    "    ax.set_xlabel(\"Ensemble size\")\n",
    "    ax.set_ylim(bottom=0, top=800)"
   ]
  },
  {
   "cell_type": "markdown",
   "metadata": {},
   "source": [
    "### Save figures"
   ]
  },
  {
   "cell_type": "code",
   "execution_count": null,
   "metadata": {},
   "outputs": [],
   "source": [
    "# Save figures\n",
    "import os\n",
    "import pickle\n",
    "from pathlib import Path\n",
    "root_module = Path.cwd()\n",
    "fig_dir = root_module.parent.joinpath(f\"figures/deep_sea_ensemble_size_ablation.pdf\")\n",
    "fig.savefig(fig_dir, bbox_inches=\"tight\", transparent=False)"
   ]
  },
  {
   "cell_type": "markdown",
   "metadata": {},
   "source": [
    "# License\n",
    "\n",
    ">Copyright (c) 2023 Robert Bosch GmbH\n",
    ">\n",
    ">This program is free software: you can redistribute it and/or modify <br>\n",
    ">it under the terms of the GNU Affero General Public License as published<br>\n",
    ">by the Free Software Foundation, either version 3 of the License, or<br>\n",
    ">(at your option) any later version.<br>\n",
    ">\n",
    ">This program is distributed in the hope that it will be useful,<br>\n",
    ">but WITHOUT ANY WARRANTY; without even the implied warranty of<br>\n",
    ">MERCHANTABILITY or FITNESS FOR A PARTICULAR PURPOSE.  See the<br>\n",
    ">GNU Affero General Public License for more details.<br>\n",
    ">\n",
    ">You should have received a copy of the GNU Affero General Public License<br>\n",
    ">along with this program.  If not, see <https://www.gnu.org/licenses/>."
   ]
  }
 ],
 "metadata": {
  "interpreter": {
   "hash": "eafbab267a141d6ae36124cd41d75a3d6551e2f58d4e70cbe0f075109478ae80"
  },
  "kernelspec": {
   "display_name": "Python 3.8.13 ('ube_mbrl')",
   "language": "python",
   "name": "python3"
  },
  "language_info": {
   "codemirror_mode": {
    "name": "ipython",
    "version": 3
   },
   "file_extension": ".py",
   "mimetype": "text/x-python",
   "name": "python",
   "nbconvert_exporter": "python",
   "pygments_lexer": "ipython3",
   "version": "3.8.16"
  },
  "orig_nbformat": 4
 },
 "nbformat": 4,
 "nbformat_minor": 2
}
