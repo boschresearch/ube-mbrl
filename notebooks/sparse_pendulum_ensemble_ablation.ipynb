{
 "cells": [
  {
   "cell_type": "markdown",
   "metadata": {},
   "source": [
    "### Load Pickle files from all environments"
   ]
  },
  {
   "cell_type": "code",
   "execution_count": null,
   "metadata": {},
   "outputs": [],
   "source": [
    "import pickle\n",
    "from pathlib import Path\n",
    "\n",
    "root_module = Path.cwd()\n",
    "ext = \".pkl\"\n",
    "name = \"sparse_pendulum_ensemble\"\n",
    "load_dir = root_module.parent.joinpath(\"data/\")\n",
    "file_dir = load_dir.joinpath(name + ext)\n",
    "data = pickle.load(open(file_dir, \"rb\"))"
   ]
  },
  {
   "cell_type": "markdown",
   "metadata": {},
   "source": [
    "### Smoothen Returns and Compute Mean + Confidence Intervals"
   ]
  },
  {
   "cell_type": "code",
   "execution_count": null,
   "metadata": {},
   "outputs": [],
   "source": [
    "import numpy as np\n",
    "from itertools import product\n",
    "from scipy.stats import sem\n",
    "\n",
    "# Get available methods and noise levels to plot\n",
    "keys_arr = np.array(list((data[\"returns\"].keys())), dtype=object)\n",
    "agent_types = np.array(list(set(keys_arr[:, 0])), dtype=tuple)\n",
    "agent_types = agent_types[agent_types.argsort()]\n",
    "# rearrange to desire order \n",
    "order = [1, 3, 0, 2]\n",
    "agent_types = agent_types[order].tolist()\n",
    "noise_std = np.sort(list(set(keys_arr[:, 1])))\n",
    "ensemble_sizes = np.sort(list(set(keys_arr[:, 2].astype(int))))\n",
    "\n",
    "data[\"mean_final_returns\"] = {}\n",
    "data[\"ci_final_returns\"] = {}\n",
    "for type, noise, size in product(agent_types, noise_std, ensemble_sizes):\n",
    "    idx = (type, noise, str(size))\n",
    "    final_returns = data[\"returns\"][idx][-1]\n",
    "    data[\"mean_final_returns\"][idx] = np.mean(final_returns)\n",
    "    data[\"ci_final_returns\"][idx] = sem(final_returns)"
   ]
  },
  {
   "cell_type": "markdown",
   "metadata": {},
   "source": [
    "### Plot results"
   ]
  },
  {
   "cell_type": "code",
   "execution_count": null,
   "metadata": {},
   "outputs": [],
   "source": [
    "%matplotlib widget\n",
    "import matplotlib.pyplot as plt\n",
    "import matplotlib.patches as mpatches\n",
    "from ube_mbrl.utils.plot import PARAMS\n",
    "\n",
    "plt.rcParams.update(PARAMS)\n",
    "plt.rcParams['axes.formatter.useoffset'] = False\n",
    "\n",
    "num_cols = len(noise_std)\n",
    "fig, axes = plt.subplots(nrows=1, ncols=num_cols, figsize=(7.5, 2.0),gridspec_kw={'wspace':0.05,'hspace':0.1})\n",
    "\n",
    "ax_dict = {}\n",
    "for noise, ax in zip(noise_std, axes.flatten()):\n",
    "    ax_dict[noise] = ax \n",
    "\n",
    "colors = {}\n",
    "cmap = plt.get_cmap(\"tab10\")\n",
    "for i, type in enumerate(agent_types):\n",
    "    colors[type] = cmap(i)\n",
    "\n",
    "wd = 0.2\n",
    "min_level = -70.0\n",
    "pos = [-3 * wd/2, -wd/2, wd/2, 3*wd/2]\n",
    "xticks = list(range(1, len(ensemble_sizes) + 1))\n",
    "xticks_labels = set()\n",
    "for (i, type), noise, (ensemble_size, xtick) in product(enumerate(agent_types), noise_std, zip(ensemble_sizes, xticks)):\n",
    "    idx = (type, noise, str(ensemble_size))\n",
    "    xticks_labels.add(str(ensemble_size))\n",
    "    ax_dict[noise].bar(\n",
    "        xtick + pos[i],\n",
    "        data[\"mean_final_returns\"][idx] - min_level,\n",
    "        yerr=data[\"ci_final_returns\"][idx],\n",
    "        width=wd,\n",
    "        color=colors[type],\n",
    "        bottom=min_level\n",
    "    )\n",
    "\n",
    "patches = []\n",
    "for type in agent_types:\n",
    "    if type == \"exact_ube_3\":\n",
    "        label = r\"\\texttt{exact-ube}\" + \" (ours)\"\n",
    "    elif type == \"ensemble\":\n",
    "        label = r\"\\texttt{ensemble-var}\"\n",
    "    elif type == \"none\":\n",
    "        label = r\"\\texttt{ensemble-mean}\"\n",
    "    else: label = fr\"\\texttt{{{type}}}\"\n",
    "    patches.append(mpatches.Patch(color=colors[type], label=label))\n",
    "\n",
    "\n",
    "axes[0].legend(handles=patches, loc = 'lower center', ncol=4, bbox_to_anchor=(1.5, -0.5), frameon=False)\n",
    "\n",
    "axes[1].yaxis.set_ticklabels([])\n",
    "axes[2].yaxis.set_ticklabels([])\n",
    "axes[0].set_ylabel(\"Return\")\n",
    "\n",
    "labels = np.sort(np.array(list(xticks_labels), dtype=int))\n",
    "for noise, ax in ax_dict.items():\n",
    "    ax.set_xticks(ticks=xticks, labels=labels)\n",
    "    ax.set_title(f\"Angle noise std {noise}\")\n",
    "    ax.set_xlabel(\"Ensemble size\")\n",
    "    ax.set_ylim(bottom=min_level, top=260)"
   ]
  },
  {
   "cell_type": "code",
   "execution_count": null,
   "metadata": {},
   "outputs": [],
   "source": [
    "# Save figures\n",
    "import os\n",
    "import pickle\n",
    "from pathlib import Path\n",
    "root_module = Path.cwd()\n",
    "fig_dir = root_module.parent.joinpath(f\"figures/sparse_pendulum_ensemble_ablation.pdf\")\n",
    "fig.savefig(fig_dir, bbox_inches=\"tight\", transparent=False)"
   ]
  },
  {
   "cell_type": "markdown",
   "metadata": {},
   "source": [
    "# License\n",
    "\n",
    ">Copyright (c) 2023 Robert Bosch GmbH\n",
    ">\n",
    ">This program is free software: you can redistribute it and/or modify <br>\n",
    ">it under the terms of the GNU Affero General Public License as published<br>\n",
    ">by the Free Software Foundation, either version 3 of the License, or<br>\n",
    ">(at your option) any later version.<br>\n",
    ">\n",
    ">This program is distributed in the hope that it will be useful,<br>\n",
    ">but WITHOUT ANY WARRANTY; without even the implied warranty of<br>\n",
    ">MERCHANTABILITY or FITNESS FOR A PARTICULAR PURPOSE.  See the<br>\n",
    ">GNU Affero General Public License for more details.<br>\n",
    ">\n",
    ">You should have received a copy of the GNU Affero General Public License<br>\n",
    ">along with this program.  If not, see <https://www.gnu.org/licenses/>."
   ]
  }
 ],
 "metadata": {
  "interpreter": {
   "hash": "eafbab267a141d6ae36124cd41d75a3d6551e2f58d4e70cbe0f075109478ae80"
  },
  "kernelspec": {
   "display_name": "Python 3.8.13 ('ube_mbrl')",
   "language": "python",
   "name": "python3"
  },
  "language_info": {
   "codemirror_mode": {
    "name": "ipython",
    "version": 3
   },
   "file_extension": ".py",
   "mimetype": "text/x-python",
   "name": "python",
   "nbconvert_exporter": "python",
   "pygments_lexer": "ipython3",
   "version": "3.8.16"
  },
  "orig_nbformat": 4
 },
 "nbformat": 4,
 "nbformat_minor": 2
}
