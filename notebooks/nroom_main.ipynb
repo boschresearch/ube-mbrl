{
 "cells": [
  {
   "cell_type": "markdown",
   "metadata": {},
   "source": [
    "### Load Pickle file"
   ]
  },
  {
   "cell_type": "code",
   "execution_count": null,
   "metadata": {},
   "outputs": [],
   "source": [
    "import pickle\n",
    "from pathlib import Path\n",
    "\n",
    "root_module = Path.cwd()\n",
    "ext = \".pkl\"\n",
    "name = \"nroom_main\"\n",
    "load_dir = root_module.parent.joinpath(\"data/\")\n",
    "file_dir = load_dir.joinpath(name + ext)\n",
    "data = pickle.load(open(file_dir, \"rb\"))"
   ]
  },
  {
   "cell_type": "markdown",
   "metadata": {},
   "source": [
    "### Get metrics from raw data"
   ]
  },
  {
   "cell_type": "code",
   "execution_count": null,
   "metadata": {},
   "outputs": [],
   "source": [
    "import numpy as np\n",
    "from scipy.stats import sem\n",
    "\n",
    "data[\"mean_regret\"] = {}\n",
    "data[\"ci_regret\"] = {}\n",
    "for key in data[\"total_regret\"].keys():\n",
    "    # Get mean and standard error of total regret\n",
    "    data[\"mean_regret\"][key] = np.mean(data[\"total_regret\"][key], axis=-1)\n",
    "    data[\"ci_regret\"][key] = sem(data[\"total_regret\"][key], axis=-1)"
   ]
  },
  {
   "cell_type": "markdown",
   "metadata": {},
   "source": [
    "### Total regret vs episodes Plot"
   ]
  },
  {
   "cell_type": "code",
   "execution_count": null,
   "metadata": {},
   "outputs": [],
   "source": [
    "# Get all param names that were not the same for all runs and that are not seeds.\n",
    "# Those are the experiments that we want to group on.\n",
    "%matplotlib widget\n",
    "import matplotlib.pyplot as plt\n",
    "from itertools import product\n",
    "from ube_mbrl.utils.plot import PARAMS\n",
    "\n",
    "plt.rcParams.update(PARAMS)\n",
    "\n",
    "# Get unique agent types and deep sea sizes in the data\n",
    "agent_types = np.array(list((data[\"total_regret\"].keys())), dtype=object)\n",
    "agent_types = agent_types[agent_types[:,1].argsort()]\n",
    "# rearrange to desire order \n",
    "order = [1, 3, 0, 2]\n",
    "agent_types = agent_types[order].tolist()\n",
    "# convert back to tuple so we use it as index\n",
    "agent_types = [tuple(agent_type) for agent_type in agent_types]\n",
    "\n",
    "fig, ax = plt.subplots(nrows=1, ncols=1, figsize=(3.3, 1.5),gridspec_kw={'wspace':0.15,'hspace':0.3})\n",
    "\n",
    "colors = {}\n",
    "cmap = plt.get_cmap(\"tab10\")\n",
    "for i, agent_type in enumerate(agent_types):\n",
    "    colors[agent_type] = cmap(i)\n",
    "\n",
    "for agent in agent_types[::-1]:\n",
    "    agent_name, uq_method = agent\n",
    "    ls = \"-\"\n",
    "    if agent_name == \"psrl\":\n",
    "        label = fr\"\\texttt{{{agent_name}}}\"\n",
    "    else:\n",
    "        if uq_method == \"exact_ube_3\":\n",
    "            label = r\"\\texttt{ofu-exact-ube}\" + \" (ours)\"\n",
    "        elif uq_method == \"ensemble\":\n",
    "            label = r\"\\texttt{ofu-ensemble-var}\"\n",
    "        else:\n",
    "            label = fr\"\\texttt{{{agent_name}-}}\\texttt{{{uq_method}}}\"\n",
    "    idx = agent\n",
    "    eps = data[\"episodes\"][idx]\n",
    "    mean = data[\"mean_regret\"][idx]\n",
    "    ci = data[\"ci_regret\"][idx]\n",
    "    ax.plot(eps, mean, linestyle=ls, linewidth=2, label=label, c=colors[agent])\n",
    "    upper = mean + ci\n",
    "    lower = mean - ci\n",
    "    ax.fill_between(eps, upper, lower, alpha=0.2, color=colors[agent])\n",
    "\n",
    "handles, labels = ax.get_legend_handles_labels()\n",
    "plt.rcParams['legend.title_fontsize'] = 'xx-small'\n",
    "ax.legend(handles[::-1], labels[::-1],\n",
    "    loc = 'lower center', ncol=2, bbox_to_anchor=(0.45, -0.7), frameon=False, prop=dict(size=8)\n",
    ")\n",
    "# ax.set_yscale('log')\n",
    "# ax.minorticks_off()\n",
    "ax.set_ylabel(\"Total regret\")\n",
    "ax.set_xlabel(\"Episode\")\n",
    "ax.ticklabel_format(axis='x', style='sci', scilimits=(0,0))\n",
    "ax.ticklabel_format(axis='y', style='sci', scilimits=(0,0))"
   ]
  },
  {
   "cell_type": "markdown",
   "metadata": {},
   "source": [
    "### Save figures"
   ]
  },
  {
   "cell_type": "code",
   "execution_count": null,
   "metadata": {},
   "outputs": [],
   "source": [
    "# Save figures\n",
    "import os\n",
    "from pathlib import Path\n",
    "root_module = Path.cwd()\n",
    "fig_dir = root_module.parent.joinpath(f\"figures/nroom_regret.pdf\")\n",
    "fig.savefig(fig_dir, bbox_inches=\"tight\", transparent=False)"
   ]
  },
  {
   "cell_type": "markdown",
   "metadata": {},
   "source": [
    "# License\n",
    "\n",
    ">Copyright (c) 2023 Robert Bosch GmbH\n",
    ">\n",
    ">This program is free software: you can redistribute it and/or modify <br>\n",
    ">it under the terms of the GNU Affero General Public License as published<br>\n",
    ">by the Free Software Foundation, either version 3 of the License, or<br>\n",
    ">(at your option) any later version.<br>\n",
    ">\n",
    ">This program is distributed in the hope that it will be useful,<br>\n",
    ">but WITHOUT ANY WARRANTY; without even the implied warranty of<br>\n",
    ">MERCHANTABILITY or FITNESS FOR A PARTICULAR PURPOSE.  See the<br>\n",
    ">GNU Affero General Public License for more details.<br>\n",
    ">\n",
    ">You should have received a copy of the GNU Affero General Public License<br>\n",
    ">along with this program.  If not, see <https://www.gnu.org/licenses/>."
   ]
  }
 ],
 "metadata": {
  "interpreter": {
   "hash": "eafbab267a141d6ae36124cd41d75a3d6551e2f58d4e70cbe0f075109478ae80"
  },
  "kernelspec": {
   "display_name": "Python 3.8.13 ('ube_mbrl')",
   "language": "python",
   "name": "python3"
  },
  "language_info": {
   "codemirror_mode": {
    "name": "ipython",
    "version": 3
   },
   "file_extension": ".py",
   "mimetype": "text/x-python",
   "name": "python",
   "nbconvert_exporter": "python",
   "pygments_lexer": "ipython3",
   "version": "3.8.16"
  },
  "orig_nbformat": 4
 },
 "nbformat": 4,
 "nbformat_minor": 2
}
